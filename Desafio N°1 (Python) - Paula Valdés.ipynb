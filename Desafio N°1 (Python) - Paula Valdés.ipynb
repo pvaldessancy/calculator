{
 "cells": [
  {
   "cell_type": "markdown",
   "id": "229ed336",
   "metadata": {},
   "source": [
    "# Desafío 1 - Conociendo Python"
   ]
  },
  {
   "cell_type": "markdown",
   "id": "1c1f9bc9",
   "metadata": {},
   "source": [
    "## 1. Calculando el salario semanal\n",
    "Un vendedor gana un salario base de $500 más una comisión del 10% sobre sus ventas totales. Escribe un programa donde se pueda ingresar el monto de las ventas totales del vendedor y calcule su salario total.\n"
   ]
  },
  {
   "cell_type": "code",
   "execution_count": null,
   "id": "4276869d",
   "metadata": {},
   "outputs": [],
   "source": [
    "# Definimos las variables que componen el cálculo (salario_base, ventas_total y comision)\n",
    "salario_base=(500)"
   ]
  },
  {
   "cell_type": "code",
   "execution_count": null,
   "id": "6c8f8322",
   "metadata": {},
   "outputs": [],
   "source": [
    "ventas_total = float(input(\"Ingrese el valor total de ventas del vendedor: \"))"
   ]
  },
  {
   "cell_type": "code",
   "execution_count": null,
   "id": "5624dc3e",
   "metadata": {},
   "outputs": [],
   "source": [
    "comision = ventas_total * 0.1"
   ]
  },
  {
   "cell_type": "code",
   "execution_count": null,
   "id": "d00c2822",
   "metadata": {},
   "outputs": [],
   "source": [
    "# Generamos el cálculo para determinar el salario total:\n",
    "salario_total = \"El salario total, incluyendo la comisión de 10% sobre ventas, es igual a\" + \" \" + str(int(salario_base + comision))"
   ]
  },
  {
   "cell_type": "code",
   "execution_count": null,
   "id": "b264065b",
   "metadata": {},
   "outputs": [],
   "source": [
    "print (salario_total)"
   ]
  },
  {
   "cell_type": "markdown",
   "id": "58e568b7",
   "metadata": {},
   "source": [
    "## 2. Bienvenido a la frutería virtual\n",
    "\n",
    "En este ejercicio, vamos a crear un diccionario vacío llamado catalogo_frutas {'fruta':precio} y agregar algunas frutas con sus precios. Luego, le pediremos al usuario que ingrese el nombre de una fruta y verificaremos si esa fruta está en el diccionario. Si la fruta está en el diccionario, mostraremos el precio al usuario. Si la fruta no está en el diccionario, le diremos al usuario que no se encuentra esa fruta en nuestra tienda.\n"
   ]
  },
  {
   "cell_type": "code",
   "execution_count": null,
   "id": "32b70522",
   "metadata": {},
   "outputs": [],
   "source": [
    "# Definimos el diccionario vacío\n",
    "catalogo_frutas = {}"
   ]
  },
  {
   "cell_type": "code",
   "execution_count": null,
   "id": "2ae9d3c2",
   "metadata": {},
   "outputs": [],
   "source": [
    "# Poblamos el diccionario con algunas frutas y sus valores por kilo\n",
    "catalogo_frutas[\"melon\"] = 800\n",
    "catalogo_frutas[\"sandia\"] = 1500\n",
    "catalogo_frutas[\"frutilla\"] = 1200\n",
    "catalogo_frutas[\"mango\"] = 2000\n",
    "catalogo_frutas[\"membrillo\"] = 900"
   ]
  },
  {
   "cell_type": "code",
   "execution_count": null,
   "id": "906f7955",
   "metadata": {},
   "outputs": [],
   "source": [
    "# A través de este print podemos ver lo que contiene el diccionario\n",
    "print(catalogo_frutas)"
   ]
  },
  {
   "cell_type": "code",
   "execution_count": null,
   "id": "21d68e3a",
   "metadata": {},
   "outputs": [],
   "source": [
    "# Definimos un mensaje para el usuario, para que pueda buscar por fruta\n",
    "fruta = input(\"Ingrese el nombre de la fruta: \")"
   ]
  },
  {
   "cell_type": "code",
   "execution_count": null,
   "id": "7dc374c1",
   "metadata": {},
   "outputs": [],
   "source": [
    "# A continuación, escribimos un código que evalúa si la fruta ingresada por el usuario está en el catálogo de la tienda,\n",
    "# caso contrario, si es válido, entregará el valor por kilo de esta, caso contrario, devuelve un mensaje al usuario.\n",
    "if fruta in catalogo_frutas:\n",
    "    precio_fruta = catalogo_frutas[fruta]\n",
    "    print (f\"El precio de {fruta} es $ {precio_fruta} el kilo\")\n",
    "else:\n",
    "    print (f\"Disculpe {fruta} no se encuentra en el stock de la tienda\")"
   ]
  },
  {
   "cell_type": "markdown",
   "id": "880f3b36",
   "metadata": {},
   "source": [
    "## 3. Bienvenido al casino"
   ]
  },
  {
   "cell_type": "markdown",
   "id": "57384817",
   "metadata": {},
   "source": [
    "En este juego, tienes que lanzar dos dados y el programa mostrará los valores obtenidos en cada dado y la suma de ambos valores. \n",
    "Debes generar dos números aleatorios entre 1 y 6 que representan los valores obtenidos en cada dado usando la librería random. \n",
    "Luego, el programa debe mostrar los valores obtenidos en cada dado y la suma de ambos valores en la pantalla."
   ]
  },
  {
   "cell_type": "code",
   "execution_count": null,
   "id": "73723235",
   "metadata": {},
   "outputs": [],
   "source": [
    "# Primero importamos la librería \"random\" la cual nos permitirá traer números aleatorios. Luego de importada, creamos un código\n",
    "# en el cual se tengan dos dados, con rango de números aleatorios del 1 al 6. En el código, hemos indicado que muestre al usuario\n",
    "# los valores de ambos dados y también los sume. Adicionalmente, el usuario tiene la posibilidad de repetir la jugada.\n",
    "import random\n",
    "\n",
    "while True:\n",
    "    dado1 = random.randrange (1, 6) \n",
    "    dado2 = random.randrange (1, 6)\n",
    "    print(\"Dado 1: \", dado1,\"Dado 2: \", dado2)\n",
    "    print('Suma dados: ', dado1 + dado2)\n",
    "    otra_vez = input(\"Lanzar nuevamente los dados? (si/no): \")\n",
    "    if otra_vez.lower()=='si':\n",
    "        continue\n",
    "    else:\n",
    "        break"
   ]
  },
  {
   "cell_type": "markdown",
   "id": "61e35644",
   "metadata": {},
   "source": [
    "## 4. Calculadora de chocolate\n",
    "\n",
    "En este ejercicio crearemos un programa que calcule la cantidad de chocolate que puedes comer sin pasarte de tu límite diario de calorías. El programa debe preguntar al usuario su límite diario de calorías y la cantidad de calorías que tiene una porción de chocolate. Luego, debe calcular la cantidad máxima de chocolate que se puede comer sin exceder el límite diario de calorías y mostrarla en pantalla. "
   ]
  },
  {
   "cell_type": "code",
   "execution_count": null,
   "id": "de0f6019",
   "metadata": {},
   "outputs": [],
   "source": [
    "# Solicitamos al usuario indique la cantidad diaria de calorias que puede consumir de chocolate\n",
    "limite_diario = float(input(\"Indique su límite diario de chocolate (en calorias): \", ))"
   ]
  },
  {
   "cell_type": "code",
   "execution_count": null,
   "id": "088fc898",
   "metadata": {},
   "outputs": [],
   "source": [
    "# Solicitamos al usuario indicar cuántas calorias tiene el chocolate que desea comer en 1 porcion (100 g)\n",
    "calorias_porcion = float(input(\"Indique la cantidad de calorias por porcion (100 g) del chocolate que desea comer: \", ))"
   ]
  },
  {
   "cell_type": "code",
   "execution_count": null,
   "id": "d4580643",
   "metadata": {},
   "outputs": [],
   "source": [
    "# Calculo de la cantidad máxima recomendada de consumo de chocolate\n",
    "limite_chocolate = (\n",
    "    f\"La cantidad máxima de chocolate diario recomendado para usted es de \" \n",
    "    f\"{int((100 * limite_diario) / calorias_porcion)} gramos\"\n",
    ")\n",
    "# Mostramos el resultado\n",
    "print(limite_chocolate)"
   ]
  },
  {
   "cell_type": "code",
   "execution_count": null,
   "id": "f0df0a35",
   "metadata": {},
   "outputs": [],
   "source": []
  }
 ],
 "metadata": {
  "kernelspec": {
   "display_name": "Python 3 (ipykernel)",
   "language": "python",
   "name": "python3"
  },
  "language_info": {
   "codemirror_mode": {
    "name": "ipython",
    "version": 3
   },
   "file_extension": ".py",
   "mimetype": "text/x-python",
   "name": "python",
   "nbconvert_exporter": "python",
   "pygments_lexer": "ipython3",
   "version": "3.11.4"
  }
 },
 "nbformat": 4,
 "nbformat_minor": 5
}
